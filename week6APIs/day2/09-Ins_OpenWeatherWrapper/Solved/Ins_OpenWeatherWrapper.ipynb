{
 "cells": [
  {
   "cell_type": "code",
   "execution_count": 12,
   "metadata": {},
   "outputs": [],
   "source": [
    "# Dependencies\n",
    "\n",
    "import openweathermapy.core as owm\n",
    "\n",
    "#config\n",
    "from config import api_key\n",
    "from pprint import pprint"
   ]
  },
  {
   "cell_type": "code",
   "execution_count": 13,
   "metadata": {},
   "outputs": [],
   "source": [
    "# Create settings dictionary with information we're interested in\n",
    "settings = {\"units\": \"metric\", \"appid\": api_key}"
   ]
  },
  {
   "cell_type": "code",
   "execution_count": 16,
   "metadata": {},
   "outputs": [
    {
     "name": "stdout",
     "output_type": "stream",
     "text": [
      "(\"Current weather object for Paris: {'coord': {'lon': 2.35, 'lat': 48.86}, \"\n",
      " \"'weather': [{'id': 804, 'main': 'Clouds', 'description': 'overcast clouds', \"\n",
      " \"'icon': '04n'}], 'base': 'stations', 'main': {'temp': 19.25, 'pressure': \"\n",
      " \"1018, 'humidity': 60, 'temp_min': 18, 'temp_max': 20}, 'visibility': 10000, \"\n",
      " \"'wind': {'speed': 3.1, 'deg': 360}, 'clouds': {'all': 90}, 'dt': 1536008400, \"\n",
      " \"'sys': {'type': 1, 'id': 5610, 'message': 0.0041, 'country': 'FR', \"\n",
      " \"'sunrise': 1535951472, 'sunset': 1535999232}, 'id': 2988507, 'name': \"\n",
      " \"'Paris', 'cod': 200}.\")\n"
     ]
    }
   ],
   "source": [
    "# Get current weather\n",
    "current_weather_paris = owm.get_current(\"Paris\", **settings)\n",
    "pprint(f\"Current weather object for Paris: {current_weather_paris}.\")"
   ]
  },
  {
   "cell_type": "code",
   "execution_count": 8,
   "metadata": {},
   "outputs": [
    {
     "name": "stdout",
     "output_type": "stream",
     "text": [
      "The current weather summary for Paris is: ('Paris', 15.37).\n"
     ]
    }
   ],
   "source": [
    "summary = [\"name\", \"main.temp\"]\n",
    "\n",
    "data = current_weather_paris(*summary)\n",
    "print(f\"The current weather summary for Paris is: {data}.\")"
   ]
  }
 ],
 "metadata": {
  "kernelspec": {
   "display_name": "Python 3",
   "language": "python",
   "name": "python3"
  },
  "language_info": {
   "codemirror_mode": {
    "name": "ipython",
    "version": 3
   },
   "file_extension": ".py",
   "mimetype": "text/x-python",
   "name": "python",
   "nbconvert_exporter": "python",
   "pygments_lexer": "ipython3",
   "version": "3.6.5"
  },
  "varInspector": {
   "cols": {
    "lenName": 16,
    "lenType": 16,
    "lenVar": 40
   },
   "kernels_config": {
    "python": {
     "delete_cmd_postfix": "",
     "delete_cmd_prefix": "del ",
     "library": "var_list.py",
     "varRefreshCmd": "print(var_dic_list())"
    },
    "r": {
     "delete_cmd_postfix": ") ",
     "delete_cmd_prefix": "rm(",
     "library": "var_list.r",
     "varRefreshCmd": "cat(var_dic_list()) "
    }
   },
   "types_to_exclude": [
    "module",
    "function",
    "builtin_function_or_method",
    "instance",
    "_Feature"
   ],
   "window_display": false
  }
 },
 "nbformat": 4,
 "nbformat_minor": 2
}
