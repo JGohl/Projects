{
 "cells": [
  {
   "cell_type": "code",
   "execution_count": 12,
   "metadata": {},
   "outputs": [],
   "source": [
    "# Dependencies\n",
    "import requests\n",
    "from config import api_key\n",
    "from config import url\n",
    "from pprint import pprint"
   ]
  },
  {
   "cell_type": "code",
   "execution_count": 21,
   "metadata": {},
   "outputs": [
    {
     "name": "stdout",
     "output_type": "stream",
     "text": [
      "http://api.openweathermap.org/data/2.5/weather?appid=0b36503ae114e27f71e3aba2e9979159&q=Bujumbura&units=metric\n",
      "{'base': 'stations',\n",
      " 'clouds': {'all': 0},\n",
      " 'cod': 200,\n",
      " 'coord': {'lat': -3.36, 'lon': 29.37},\n",
      " 'dt': 1535668881,\n",
      " 'id': 425378,\n",
      " 'main': {'grnd_level': 856.13,\n",
      "          'humidity': 100,\n",
      "          'pressure': 856.13,\n",
      "          'sea_level': 1022.98,\n",
      "          'temp': 286.399,\n",
      "          'temp_max': 286.399,\n",
      "          'temp_min': 286.399},\n",
      " 'name': 'Bujumbura',\n",
      " 'sys': {'country': 'BI',\n",
      "         'message': 0.0039,\n",
      "         'sunrise': 1535601699,\n",
      "         'sunset': 1535645051},\n",
      " 'weather': [{'description': 'clear sky',\n",
      "              'icon': '01n',\n",
      "              'id': 800,\n",
      "              'main': 'Clear'}],\n",
      " 'wind': {'deg': 349.501, 'speed': 0.62}}\n"
     ]
    }
   ],
   "source": [
    "# Build query URL and request your results in Celsius\n",
    "city = \"Bujumbura\"\n",
    "query_url = url + \"appid=\" + api_key + \"&q=\" + city + \"&units=metric\"\n",
    "\n",
    "print(query_url)\n",
    "# Get weather data\n",
    "request_json = requests.get(query_url).json()\n",
    "pprint(request)\n"
   ]
  },
  {
   "cell_type": "code",
   "execution_count": 22,
   "metadata": {},
   "outputs": [],
   "source": [
    "# Get temperature from JSON response\n",
    "temp = request_json['main']['temp']"
   ]
  },
  {
   "cell_type": "code",
   "execution_count": 27,
   "metadata": {},
   "outputs": [
    {
     "name": "stdout",
     "output_type": "stream",
     "text": [
      "Bujumbura is currently 13.25 degree celsius\n"
     ]
    }
   ],
   "source": [
    "# Report temperature\n",
    "print(\"Bujumbura is currently \" + str(temp) + \" degree celsius\")"
   ]
  }
 ],
 "metadata": {
  "kernelspec": {
   "display_name": "Python 3",
   "language": "python",
   "name": "python3"
  },
  "language_info": {
   "codemirror_mode": {
    "name": "ipython",
    "version": 3
   },
   "file_extension": ".py",
   "mimetype": "text/x-python",
   "name": "python",
   "nbconvert_exporter": "python",
   "pygments_lexer": "ipython3",
   "version": "3.6.5"
  },
  "varInspector": {
   "cols": {
    "lenName": 16,
    "lenType": 16,
    "lenVar": 40
   },
   "kernels_config": {
    "python": {
     "delete_cmd_postfix": "",
     "delete_cmd_prefix": "del ",
     "library": "var_list.py",
     "varRefreshCmd": "print(var_dic_list())"
    },
    "r": {
     "delete_cmd_postfix": ") ",
     "delete_cmd_prefix": "rm(",
     "library": "var_list.r",
     "varRefreshCmd": "cat(var_dic_list()) "
    }
   },
   "types_to_exclude": [
    "module",
    "function",
    "builtin_function_or_method",
    "instance",
    "_Feature"
   ],
   "window_display": false
  }
 },
 "nbformat": 4,
 "nbformat_minor": 2
}
