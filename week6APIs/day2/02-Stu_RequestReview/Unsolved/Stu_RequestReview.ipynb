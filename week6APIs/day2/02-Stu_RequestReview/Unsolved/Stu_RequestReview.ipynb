{
 "cells": [
  {
   "cell_type": "code",
   "execution_count": 34,
   "metadata": {},
   "outputs": [],
   "source": [
    "# Dependencies\n",
    "import json\n",
    "import requests \n",
    "from pprint import pprint"
   ]
  },
  {
   "cell_type": "code",
   "execution_count": 35,
   "metadata": {},
   "outputs": [],
   "source": [
    "# Specify the URL\n",
    "url = \"http://nyt-mongo-scraper.herokuapp.com/api/headlines\"\n",
    "\n",
    "# Make request and store response\n",
    "request = requests.get(url)"
   ]
  },
  {
   "cell_type": "code",
   "execution_count": 36,
   "metadata": {},
   "outputs": [],
   "source": [
    "# JSON-ify response\n",
    "request_json = request.json()"
   ]
  },
  {
   "cell_type": "code",
   "execution_count": 37,
   "metadata": {
    "scrolled": true
   },
   "outputs": [
    {
     "name": "stdout",
     "output_type": "stream",
     "text": [
      "The first row is:\n",
      "{'__v': 0,\n",
      " '_id': '5b88763269c4a000145ab01b',\n",
      " 'date': '2018-08-30T22:56:50.736Z',\n",
      " 'headline': 'The Gender Divide in Preschoolers’ Closets',\n",
      " 'saved': False,\n",
      " 'summary': 'I buy my daughter boys’ pants because even in an age of female '\n",
      "            'fighter pilots and #MeToo, boys’ clothes are largely designed to '\n",
      "            'be practical, while girls’ are designed to be pretty.',\n",
      " 'url': 'https://www.nytimes.com/2018/08/28/well/family/the-gender-divide-in-preschoolers-closets.html?imp_id=578251967'}\n",
      "\n",
      "The last line is:\n",
      "{'__v': 0,\n",
      " '_id': '5b884f8ff8c4f400144d4e5e',\n",
      " 'date': '2018-08-30T20:11:59.327Z',\n",
      " 'headline': 'Listen to ‘The Daily’',\n",
      " 'saved': False,\n",
      " 'summary': 'Why the Florida governor’s race may be a litmus test for 2020.',\n",
      " 'url': 'https://www.nytimes.com/2018/08/30/podcasts/the-daily/florida-governor-election-gillum-desantis.html?imp_id=519306996'}\n"
     ]
    }
   ],
   "source": [
    "# Print first and last articles\n",
    "print(f\"The first row is:\")\n",
    "pprint(request_json[0])\n",
    "print()\n",
    "print(f\"The last line is:\")\n",
    "pprint(request_json[-1])\n"
   ]
  },
  {
   "cell_type": "code",
   "execution_count": 38,
   "metadata": {},
   "outputs": [
    {
     "name": "stdout",
     "output_type": "stream",
     "text": [
      "There are 18 responses.\n"
     ]
    }
   ],
   "source": [
    "#Print the number of responses received.\n",
    "print(\"There are \" + str(len(request_json)) + \" responses.\")"
   ]
  }
 ],
 "metadata": {
  "kernelspec": {
   "display_name": "Python 3",
   "language": "python",
   "name": "python3"
  },
  "language_info": {
   "codemirror_mode": {
    "name": "ipython",
    "version": 3
   },
   "file_extension": ".py",
   "mimetype": "text/x-python",
   "name": "python",
   "nbconvert_exporter": "python",
   "pygments_lexer": "ipython3",
   "version": "3.6.5"
  },
  "varInspector": {
   "cols": {
    "lenName": 16,
    "lenType": 16,
    "lenVar": 40
   },
   "kernels_config": {
    "python": {
     "delete_cmd_postfix": "",
     "delete_cmd_prefix": "del ",
     "library": "var_list.py",
     "varRefreshCmd": "print(var_dic_list())"
    },
    "r": {
     "delete_cmd_postfix": ") ",
     "delete_cmd_prefix": "rm(",
     "library": "var_list.r",
     "varRefreshCmd": "cat(var_dic_list()) "
    }
   },
   "types_to_exclude": [
    "module",
    "function",
    "builtin_function_or_method",
    "instance",
    "_Feature"
   ],
   "window_display": false
  }
 },
 "nbformat": 4,
 "nbformat_minor": 2
}
