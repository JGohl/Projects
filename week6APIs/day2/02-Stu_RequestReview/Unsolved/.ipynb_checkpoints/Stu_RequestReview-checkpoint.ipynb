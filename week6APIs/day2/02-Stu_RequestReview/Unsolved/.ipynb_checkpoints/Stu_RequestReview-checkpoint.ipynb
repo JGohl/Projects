{
 "cells": [
  {
   "cell_type": "code",
   "execution_count": 6,
   "metadata": {},
   "outputs": [],
   "source": [
    "# Dependencies\n",
    "import json\n",
    "import requests \n",
    "from pprint import pprint"
   ]
  },
  {
   "cell_type": "code",
   "execution_count": 2,
   "metadata": {},
   "outputs": [],
   "source": [
    "# Specify the URL\n",
    "url = \"http://nyt-mongo-scraper.herokuapp.com/api/headlines\"\n",
    "\n",
    "# Make request and store response\n",
    "request = requests.get(url)"
   ]
  },
  {
   "cell_type": "code",
   "execution_count": 3,
   "metadata": {},
   "outputs": [],
   "source": [
    "# JSON-ify response\n",
    "request_json = request.json()"
   ]
  },
  {
   "cell_type": "code",
   "execution_count": 13,
   "metadata": {
    "scrolled": true
   },
   "outputs": [
    {
     "name": "stdout",
     "output_type": "stream",
     "text": [
      "{'__v': 0,\n",
      " '_id': '5b884f8ff8c4f400144d4e6a',\n",
      " 'date': '2018-08-30T20:11:59.337Z',\n",
      " 'headline': 'The Water’s Not Fine, and You Can’t Go In Anyway',\n",
      " 'saved': True,\n",
      " 'summary': 'A riverfront beach in Rome has been criticized as too little, too '\n",
      "            'late for this summer. But for those who cannot get to the '\n",
      "            'seaside, it’s a welcome option.',\n",
      " 'url': 'https://www.nytimes.com/2018/08/29/world/europe/rome-tiberis-beach.html?imp_id=108612431'}\n",
      "{'__v': 0,\n",
      " '_id': '5b884f8ff8c4f400144d4e5e',\n",
      " 'date': '2018-08-30T20:11:59.327Z',\n",
      " 'headline': 'Listen to ‘The Daily’',\n",
      " 'saved': False,\n",
      " 'summary': 'Why the Florida governor’s race may be a litmus test for 2020.',\n",
      " 'url': 'https://www.nytimes.com/2018/08/30/podcasts/the-daily/florida-governor-election-gillum-desantis.html?imp_id=519306996'}\n",
      "13\n"
     ]
    }
   ],
   "source": [
    "# Print first and last articles\n",
    "pprint(request_json[0])\n",
    "pprint(request_json[-1])\n"
   ]
  },
  {
   "cell_type": "code",
   "execution_count": 17,
   "metadata": {},
   "outputs": [
    {
     "name": "stdout",
     "output_type": "stream",
     "text": [
      "There are 13 responses.\n"
     ]
    }
   ],
   "source": [
    "#Print the number of responses received.\n",
    "print(\"There are \" + str(len(request_json)) + \" responses.\")"
   ]
  }
 ],
 "metadata": {
  "kernelspec": {
   "display_name": "Python 3",
   "language": "python",
   "name": "python3"
  },
  "language_info": {
   "codemirror_mode": {
    "name": "ipython",
    "version": 3
   },
   "file_extension": ".py",
   "mimetype": "text/x-python",
   "name": "python",
   "nbconvert_exporter": "python",
   "pygments_lexer": "ipython3",
   "version": "3.6.5"
  },
  "varInspector": {
   "cols": {
    "lenName": 16,
    "lenType": 16,
    "lenVar": 40
   },
   "kernels_config": {
    "python": {
     "delete_cmd_postfix": "",
     "delete_cmd_prefix": "del ",
     "library": "var_list.py",
     "varRefreshCmd": "print(var_dic_list())"
    },
    "r": {
     "delete_cmd_postfix": ") ",
     "delete_cmd_prefix": "rm(",
     "library": "var_list.r",
     "varRefreshCmd": "cat(var_dic_list()) "
    }
   },
   "types_to_exclude": [
    "module",
    "function",
    "builtin_function_or_method",
    "instance",
    "_Feature"
   ],
   "window_display": false
  }
 },
 "nbformat": 4,
 "nbformat_minor": 2
}
